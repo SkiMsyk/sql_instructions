{
 "cells": [
  {
   "cell_type": "markdown",
   "metadata": {},
   "source": [
    "# テーブルを作成する  \n",
    "## 方針\n",
    "各チャブターのテーブルは\n",
    "- 'chapXX.db'というDBに放り込む\n",
    "- テーブル名は書籍に準ずる"
   ]
  },
  {
   "cell_type": "code",
   "execution_count": 1,
   "metadata": {},
   "outputs": [],
   "source": [
    "import os\n",
    "import numpy as np\n",
    "import pandas as pd"
   ]
  },
  {
   "cell_type": "code",
   "execution_count": 10,
   "metadata": {},
   "outputs": [],
   "source": [
    "import sqlite3\n",
    "def add_table(table, table_name, folder_path, dbname):\n",
    "    # make connection to the db\n",
    "    conn = sqlite3.connect(folder_path + dbname)\n",
    "\n",
    "    # make cursor object for opearating sqlite\n",
    "    cur = conn.cursor()\n",
    "\n",
    "    # create table TestResults\n",
    "    table.to_sql(table_name, conn, if_exists='replace')\n",
    "\n",
    "    # confirm table\n",
    "    select_sql = 'SELECT * FROM ' + table_name + ';'\n",
    "    for row in cur.execute(select_sql):\n",
    "        print(row)\n",
    "\n",
    "    cur.close()\n",
    "    conn.close()\n",
    "    \n",
    "    print('success')"
   ]
  },
  {
   "cell_type": "markdown",
   "metadata": {},
   "source": [
    "# chap7のDB作成"
   ]
  },
  {
   "cell_type": "code",
   "execution_count": 2,
   "metadata": {},
   "outputs": [],
   "source": [
    "TestResults = pd.DataFrame(\n",
    "    {\n",
    "        'student_id':[str(e).zfill(3) for e in range(1,16)],\n",
    "        'class':['A']*4 + ['B']*5 + ['C']*3 + ['D'] * 3,\n",
    "        'sex':['male' if e == 1 else 'female' for e in [1,0,0,1,0,1,1,1,0,1,1,0,0,0,0]],\n",
    "        'score':[100, 100, 49, 30, 100, 92, 80, 80, 10, 92, 80, 21, 100, 0, 0]\n",
    "    }\n",
    ")"
   ]
  },
  {
   "cell_type": "code",
   "execution_count": 3,
   "metadata": {},
   "outputs": [
    {
     "data": {
      "text/html": [
       "<div>\n",
       "<style scoped>\n",
       "    .dataframe tbody tr th:only-of-type {\n",
       "        vertical-align: middle;\n",
       "    }\n",
       "\n",
       "    .dataframe tbody tr th {\n",
       "        vertical-align: top;\n",
       "    }\n",
       "\n",
       "    .dataframe thead th {\n",
       "        text-align: right;\n",
       "    }\n",
       "</style>\n",
       "<table border=\"1\" class=\"dataframe\">\n",
       "  <thead>\n",
       "    <tr style=\"text-align: right;\">\n",
       "      <th></th>\n",
       "      <th>student_id</th>\n",
       "      <th>class</th>\n",
       "      <th>sex</th>\n",
       "      <th>score</th>\n",
       "    </tr>\n",
       "  </thead>\n",
       "  <tbody>\n",
       "    <tr>\n",
       "      <th>0</th>\n",
       "      <td>001</td>\n",
       "      <td>A</td>\n",
       "      <td>male</td>\n",
       "      <td>100</td>\n",
       "    </tr>\n",
       "    <tr>\n",
       "      <th>1</th>\n",
       "      <td>002</td>\n",
       "      <td>A</td>\n",
       "      <td>female</td>\n",
       "      <td>100</td>\n",
       "    </tr>\n",
       "    <tr>\n",
       "      <th>2</th>\n",
       "      <td>003</td>\n",
       "      <td>A</td>\n",
       "      <td>female</td>\n",
       "      <td>49</td>\n",
       "    </tr>\n",
       "    <tr>\n",
       "      <th>3</th>\n",
       "      <td>004</td>\n",
       "      <td>A</td>\n",
       "      <td>male</td>\n",
       "      <td>30</td>\n",
       "    </tr>\n",
       "    <tr>\n",
       "      <th>4</th>\n",
       "      <td>005</td>\n",
       "      <td>B</td>\n",
       "      <td>female</td>\n",
       "      <td>100</td>\n",
       "    </tr>\n",
       "    <tr>\n",
       "      <th>5</th>\n",
       "      <td>006</td>\n",
       "      <td>B</td>\n",
       "      <td>male</td>\n",
       "      <td>92</td>\n",
       "    </tr>\n",
       "    <tr>\n",
       "      <th>6</th>\n",
       "      <td>007</td>\n",
       "      <td>B</td>\n",
       "      <td>male</td>\n",
       "      <td>80</td>\n",
       "    </tr>\n",
       "    <tr>\n",
       "      <th>7</th>\n",
       "      <td>008</td>\n",
       "      <td>B</td>\n",
       "      <td>male</td>\n",
       "      <td>80</td>\n",
       "    </tr>\n",
       "    <tr>\n",
       "      <th>8</th>\n",
       "      <td>009</td>\n",
       "      <td>B</td>\n",
       "      <td>female</td>\n",
       "      <td>10</td>\n",
       "    </tr>\n",
       "    <tr>\n",
       "      <th>9</th>\n",
       "      <td>010</td>\n",
       "      <td>C</td>\n",
       "      <td>male</td>\n",
       "      <td>92</td>\n",
       "    </tr>\n",
       "    <tr>\n",
       "      <th>10</th>\n",
       "      <td>011</td>\n",
       "      <td>C</td>\n",
       "      <td>male</td>\n",
       "      <td>80</td>\n",
       "    </tr>\n",
       "    <tr>\n",
       "      <th>11</th>\n",
       "      <td>012</td>\n",
       "      <td>C</td>\n",
       "      <td>female</td>\n",
       "      <td>21</td>\n",
       "    </tr>\n",
       "    <tr>\n",
       "      <th>12</th>\n",
       "      <td>013</td>\n",
       "      <td>D</td>\n",
       "      <td>female</td>\n",
       "      <td>100</td>\n",
       "    </tr>\n",
       "    <tr>\n",
       "      <th>13</th>\n",
       "      <td>014</td>\n",
       "      <td>D</td>\n",
       "      <td>female</td>\n",
       "      <td>0</td>\n",
       "    </tr>\n",
       "    <tr>\n",
       "      <th>14</th>\n",
       "      <td>015</td>\n",
       "      <td>D</td>\n",
       "      <td>female</td>\n",
       "      <td>0</td>\n",
       "    </tr>\n",
       "  </tbody>\n",
       "</table>\n",
       "</div>"
      ],
      "text/plain": [
       "   student_id class     sex  score\n",
       "0         001     A    male    100\n",
       "1         002     A  female    100\n",
       "2         003     A  female     49\n",
       "3         004     A    male     30\n",
       "4         005     B  female    100\n",
       "5         006     B    male     92\n",
       "6         007     B    male     80\n",
       "7         008     B    male     80\n",
       "8         009     B  female     10\n",
       "9         010     C    male     92\n",
       "10        011     C    male     80\n",
       "11        012     C  female     21\n",
       "12        013     D  female    100\n",
       "13        014     D  female      0\n",
       "14        015     D  female      0"
      ]
     },
     "execution_count": 3,
     "metadata": {},
     "output_type": "execute_result"
    }
   ],
   "source": [
    "TestResults"
   ]
  },
  {
   "cell_type": "code",
   "execution_count": 6,
   "metadata": {},
   "outputs": [
    {
     "name": "stdout",
     "output_type": "stream",
     "text": [
      "(0, '001', 'A', 'male', 100)\n",
      "(1, '002', 'A', 'female', 100)\n",
      "(2, '003', 'A', 'female', 49)\n",
      "(3, '004', 'A', 'male', 30)\n",
      "(4, '005', 'B', 'female', 100)\n",
      "(5, '006', 'B', 'male', 92)\n",
      "(6, '007', 'B', 'male', 80)\n",
      "(7, '008', 'B', 'male', 80)\n",
      "(8, '009', 'B', 'female', 10)\n",
      "(9, '010', 'C', 'male', 92)\n",
      "(10, '011', 'C', 'male', 80)\n",
      "(11, '012', 'C', 'female', 21)\n",
      "(12, '013', 'D', 'female', 100)\n",
      "(13, '014', 'D', 'female', 0)\n",
      "(14, '015', 'D', 'female', 0)\n"
     ]
    }
   ],
   "source": [
    "add_table(table = TestResults, table_name = 'TestResults',\n",
    "          folder_path = '../dataset/', dbname = 'chap07.db')"
   ]
  },
  {
   "cell_type": "markdown",
   "metadata": {},
   "source": [
    "## Teams"
   ]
  },
  {
   "cell_type": "code",
   "execution_count": 10,
   "metadata": {},
   "outputs": [],
   "source": [
    "Teams = pd.DataFrame(\n",
    "    {\n",
    "        'member': ['Joe', 'Ken', 'Mik', 'Karen', 'Keith', 'Jan', 'Hart', 'Dick', 'Beth', 'Alen', 'Robert', 'Kagan'],\n",
    "        'team_id': [1,1,1,2,2,3,3,3,4,5,5,5],\n",
    "        'status':['ready', 'active', 'ready', 'active', 'absence', 'ready', 'ready', 'ready', 'ready', 'active', 'absence', 'ready'],\n",
    "    }\n",
    ")"
   ]
  },
  {
   "cell_type": "code",
   "execution_count": 11,
   "metadata": {},
   "outputs": [
    {
     "data": {
      "text/html": [
       "<div>\n",
       "<style scoped>\n",
       "    .dataframe tbody tr th:only-of-type {\n",
       "        vertical-align: middle;\n",
       "    }\n",
       "\n",
       "    .dataframe tbody tr th {\n",
       "        vertical-align: top;\n",
       "    }\n",
       "\n",
       "    .dataframe thead th {\n",
       "        text-align: right;\n",
       "    }\n",
       "</style>\n",
       "<table border=\"1\" class=\"dataframe\">\n",
       "  <thead>\n",
       "    <tr style=\"text-align: right;\">\n",
       "      <th></th>\n",
       "      <th>member</th>\n",
       "      <th>team_id</th>\n",
       "      <th>status</th>\n",
       "    </tr>\n",
       "  </thead>\n",
       "  <tbody>\n",
       "    <tr>\n",
       "      <th>0</th>\n",
       "      <td>Joe</td>\n",
       "      <td>1</td>\n",
       "      <td>ready</td>\n",
       "    </tr>\n",
       "    <tr>\n",
       "      <th>1</th>\n",
       "      <td>Ken</td>\n",
       "      <td>1</td>\n",
       "      <td>active</td>\n",
       "    </tr>\n",
       "    <tr>\n",
       "      <th>2</th>\n",
       "      <td>Mik</td>\n",
       "      <td>1</td>\n",
       "      <td>ready</td>\n",
       "    </tr>\n",
       "    <tr>\n",
       "      <th>3</th>\n",
       "      <td>Karen</td>\n",
       "      <td>2</td>\n",
       "      <td>active</td>\n",
       "    </tr>\n",
       "    <tr>\n",
       "      <th>4</th>\n",
       "      <td>Keith</td>\n",
       "      <td>2</td>\n",
       "      <td>absence</td>\n",
       "    </tr>\n",
       "    <tr>\n",
       "      <th>5</th>\n",
       "      <td>Jan</td>\n",
       "      <td>3</td>\n",
       "      <td>ready</td>\n",
       "    </tr>\n",
       "    <tr>\n",
       "      <th>6</th>\n",
       "      <td>Hart</td>\n",
       "      <td>3</td>\n",
       "      <td>ready</td>\n",
       "    </tr>\n",
       "    <tr>\n",
       "      <th>7</th>\n",
       "      <td>Dick</td>\n",
       "      <td>3</td>\n",
       "      <td>ready</td>\n",
       "    </tr>\n",
       "    <tr>\n",
       "      <th>8</th>\n",
       "      <td>Beth</td>\n",
       "      <td>4</td>\n",
       "      <td>ready</td>\n",
       "    </tr>\n",
       "    <tr>\n",
       "      <th>9</th>\n",
       "      <td>Alen</td>\n",
       "      <td>5</td>\n",
       "      <td>active</td>\n",
       "    </tr>\n",
       "    <tr>\n",
       "      <th>10</th>\n",
       "      <td>Robert</td>\n",
       "      <td>5</td>\n",
       "      <td>absence</td>\n",
       "    </tr>\n",
       "    <tr>\n",
       "      <th>11</th>\n",
       "      <td>Kagan</td>\n",
       "      <td>5</td>\n",
       "      <td>ready</td>\n",
       "    </tr>\n",
       "  </tbody>\n",
       "</table>\n",
       "</div>"
      ],
      "text/plain": [
       "    member  team_id   status\n",
       "0      Joe        1    ready\n",
       "1      Ken        1   active\n",
       "2      Mik        1    ready\n",
       "3    Karen        2   active\n",
       "4    Keith        2  absence\n",
       "5      Jan        3    ready\n",
       "6     Hart        3    ready\n",
       "7     Dick        3    ready\n",
       "8     Beth        4    ready\n",
       "9     Alen        5   active\n",
       "10  Robert        5  absence\n",
       "11   Kagan        5    ready"
      ]
     },
     "execution_count": 11,
     "metadata": {},
     "output_type": "execute_result"
    }
   ],
   "source": [
    "Teams"
   ]
  },
  {
   "cell_type": "code",
   "execution_count": 13,
   "metadata": {},
   "outputs": [
    {
     "name": "stdout",
     "output_type": "stream",
     "text": [
      "(0, 'Joe', 1, 'ready')\n",
      "(1, 'Ken', 1, 'active')\n",
      "(2, 'Mik', 1, 'ready')\n",
      "(3, 'Karen', 2, 'active')\n",
      "(4, 'Keith', 2, 'absence')\n",
      "(5, 'Jan', 3, 'ready')\n",
      "(6, 'Hart', 3, 'ready')\n",
      "(7, 'Dick', 3, 'ready')\n",
      "(8, 'Beth', 4, 'ready')\n",
      "(9, 'Alen', 5, 'active')\n",
      "(10, 'Robert', 5, 'absence')\n",
      "(11, 'Kagan', 5, 'ready')\n"
     ]
    }
   ],
   "source": [
    "add_table(table = Teams, table_name = 'Teams',\n",
    "          folder_path = '../dataset/', dbname = 'chap07.db')"
   ]
  },
  {
   "cell_type": "markdown",
   "metadata": {},
   "source": [
    "# Materials  "
   ]
  },
  {
   "cell_type": "code",
   "execution_count": 5,
   "metadata": {},
   "outputs": [
    {
     "data": {
      "text/plain": [
       "['tokyo',\n",
       " 'tokyo',\n",
       " 'tokyo',\n",
       " 'tokyo',\n",
       " 'osaka',\n",
       " 'osaka',\n",
       " 'osaka',\n",
       " 'nagoya',\n",
       " 'nagoya',\n",
       " 'nagoya',\n",
       " 'nagoya',\n",
       " 'nagoya',\n",
       " 'fukuoka',\n",
       " 'fukuoka']"
      ]
     },
     "execution_count": 5,
     "metadata": {},
     "output_type": "execute_result"
    }
   ],
   "source": [
    "center = ['tokyo'] * 4 + ['osaka'] * 3 + ['nagoya'] * 5 + ['fukuoka'] * 2\n",
    "center"
   ]
  },
  {
   "cell_type": "code",
   "execution_count": 6,
   "metadata": {},
   "outputs": [
    {
     "data": {
      "text/plain": [
       "['2018-04-01',\n",
       " '2018-04-12',\n",
       " '2018-05-17',\n",
       " '2018-05-20',\n",
       " '2018-04-20',\n",
       " '2018-04-22',\n",
       " '2018-04-29',\n",
       " '2018-03-15',\n",
       " '2018-04-01',\n",
       " '2018-04-24',\n",
       " '2018-05-02',\n",
       " '2018-05-10',\n",
       " '2018-05-10',\n",
       " '2018-05-28']"
      ]
     },
     "execution_count": 6,
     "metadata": {},
     "output_type": "execute_result"
    }
   ],
   "source": [
    "y = ['2018'] * 14\n",
    "m = [str(e).zfill(2) for e in [4,4,5,5,4,4,4,3,4,4,5,5,5,5]]\n",
    "d = [str(e).zfill(2) for e in [1,12,17,20,20,22,29,15,1,24,2,10,10,28]]\n",
    "\n",
    "receive_date = ['-'.join(e) for e in zip(y, m, d)]\n",
    "receive_date"
   ]
  },
  {
   "cell_type": "code",
   "execution_count": 7,
   "metadata": {},
   "outputs": [
    {
     "data": {
      "text/plain": [
       "['tin',\n",
       " 'zinc',\n",
       " 'aluminum',\n",
       " 'zinc',\n",
       " 'copper',\n",
       " 'nickel',\n",
       " 'lead',\n",
       " 'titanium',\n",
       " 'carbon-steel',\n",
       " 'carbon-steel',\n",
       " 'magnesium',\n",
       " 'titanium',\n",
       " 'zinc',\n",
       " 'tin']"
      ]
     },
     "execution_count": 7,
     "metadata": {},
     "output_type": "execute_result"
    }
   ],
   "source": [
    "material = ['tin', 'zinc', 'aluminum', 'zinc', 'copper', 'nickel', 'lead', 'titanium', 'carbon-steel', 'carbon-steel',\n",
    "           'magnesium', 'titanium', 'zinc', 'tin']\n",
    "\n",
    "material"
   ]
  },
  {
   "cell_type": "code",
   "execution_count": 8,
   "metadata": {},
   "outputs": [
    {
     "data": {
      "text/html": [
       "<div>\n",
       "<style scoped>\n",
       "    .dataframe tbody tr th:only-of-type {\n",
       "        vertical-align: middle;\n",
       "    }\n",
       "\n",
       "    .dataframe tbody tr th {\n",
       "        vertical-align: top;\n",
       "    }\n",
       "\n",
       "    .dataframe thead th {\n",
       "        text-align: right;\n",
       "    }\n",
       "</style>\n",
       "<table border=\"1\" class=\"dataframe\">\n",
       "  <thead>\n",
       "    <tr style=\"text-align: right;\">\n",
       "      <th></th>\n",
       "      <th>center</th>\n",
       "      <th>receive_date</th>\n",
       "      <th>material</th>\n",
       "    </tr>\n",
       "  </thead>\n",
       "  <tbody>\n",
       "    <tr>\n",
       "      <th>0</th>\n",
       "      <td>tokyo</td>\n",
       "      <td>2018-04-01</td>\n",
       "      <td>tin</td>\n",
       "    </tr>\n",
       "    <tr>\n",
       "      <th>1</th>\n",
       "      <td>tokyo</td>\n",
       "      <td>2018-04-12</td>\n",
       "      <td>zinc</td>\n",
       "    </tr>\n",
       "    <tr>\n",
       "      <th>2</th>\n",
       "      <td>tokyo</td>\n",
       "      <td>2018-05-17</td>\n",
       "      <td>aluminum</td>\n",
       "    </tr>\n",
       "    <tr>\n",
       "      <th>3</th>\n",
       "      <td>tokyo</td>\n",
       "      <td>2018-05-20</td>\n",
       "      <td>zinc</td>\n",
       "    </tr>\n",
       "    <tr>\n",
       "      <th>4</th>\n",
       "      <td>osaka</td>\n",
       "      <td>2018-04-20</td>\n",
       "      <td>copper</td>\n",
       "    </tr>\n",
       "    <tr>\n",
       "      <th>5</th>\n",
       "      <td>osaka</td>\n",
       "      <td>2018-04-22</td>\n",
       "      <td>nickel</td>\n",
       "    </tr>\n",
       "    <tr>\n",
       "      <th>6</th>\n",
       "      <td>osaka</td>\n",
       "      <td>2018-04-29</td>\n",
       "      <td>lead</td>\n",
       "    </tr>\n",
       "    <tr>\n",
       "      <th>7</th>\n",
       "      <td>nagoya</td>\n",
       "      <td>2018-03-15</td>\n",
       "      <td>titanium</td>\n",
       "    </tr>\n",
       "    <tr>\n",
       "      <th>8</th>\n",
       "      <td>nagoya</td>\n",
       "      <td>2018-04-01</td>\n",
       "      <td>carbon-steel</td>\n",
       "    </tr>\n",
       "    <tr>\n",
       "      <th>9</th>\n",
       "      <td>nagoya</td>\n",
       "      <td>2018-04-24</td>\n",
       "      <td>carbon-steel</td>\n",
       "    </tr>\n",
       "    <tr>\n",
       "      <th>10</th>\n",
       "      <td>nagoya</td>\n",
       "      <td>2018-05-02</td>\n",
       "      <td>magnesium</td>\n",
       "    </tr>\n",
       "    <tr>\n",
       "      <th>11</th>\n",
       "      <td>nagoya</td>\n",
       "      <td>2018-05-10</td>\n",
       "      <td>titanium</td>\n",
       "    </tr>\n",
       "    <tr>\n",
       "      <th>12</th>\n",
       "      <td>fukuoka</td>\n",
       "      <td>2018-05-10</td>\n",
       "      <td>zinc</td>\n",
       "    </tr>\n",
       "    <tr>\n",
       "      <th>13</th>\n",
       "      <td>fukuoka</td>\n",
       "      <td>2018-05-28</td>\n",
       "      <td>tin</td>\n",
       "    </tr>\n",
       "  </tbody>\n",
       "</table>\n",
       "</div>"
      ],
      "text/plain": [
       "     center receive_date      material\n",
       "0     tokyo   2018-04-01           tin\n",
       "1     tokyo   2018-04-12          zinc\n",
       "2     tokyo   2018-05-17      aluminum\n",
       "3     tokyo   2018-05-20          zinc\n",
       "4     osaka   2018-04-20        copper\n",
       "5     osaka   2018-04-22        nickel\n",
       "6     osaka   2018-04-29          lead\n",
       "7    nagoya   2018-03-15      titanium\n",
       "8    nagoya   2018-04-01  carbon-steel\n",
       "9    nagoya   2018-04-24  carbon-steel\n",
       "10   nagoya   2018-05-02     magnesium\n",
       "11   nagoya   2018-05-10      titanium\n",
       "12  fukuoka   2018-05-10          zinc\n",
       "13  fukuoka   2018-05-28           tin"
      ]
     },
     "execution_count": 8,
     "metadata": {},
     "output_type": "execute_result"
    }
   ],
   "source": [
    "Materials = pd.DataFrame(\n",
    "    {\n",
    "        'center':center,\n",
    "        'receive_date':receive_date,\n",
    "        'material':material\n",
    "    }\n",
    ")\n",
    "\n",
    "Materials"
   ]
  },
  {
   "cell_type": "code",
   "execution_count": 11,
   "metadata": {},
   "outputs": [
    {
     "name": "stdout",
     "output_type": "stream",
     "text": [
      "(0, 'tokyo', '2018-04-01', 'tin')\n",
      "(1, 'tokyo', '2018-04-12', 'zinc')\n",
      "(2, 'tokyo', '2018-05-17', 'aluminum')\n",
      "(3, 'tokyo', '2018-05-20', 'zinc')\n",
      "(4, 'osaka', '2018-04-20', 'copper')\n",
      "(5, 'osaka', '2018-04-22', 'nickel')\n",
      "(6, 'osaka', '2018-04-29', 'lead')\n",
      "(7, 'nagoya', '2018-03-15', 'titanium')\n",
      "(8, 'nagoya', '2018-04-01', 'carbon-steel')\n",
      "(9, 'nagoya', '2018-04-24', 'carbon-steel')\n",
      "(10, 'nagoya', '2018-05-02', 'magnesium')\n",
      "(11, 'nagoya', '2018-05-10', 'titanium')\n",
      "(12, 'fukuoka', '2018-05-10', 'zinc')\n",
      "(13, 'fukuoka', '2018-05-28', 'tin')\n",
      "success\n"
     ]
    }
   ],
   "source": [
    "add_table(table = Materials, table_name = 'Materials',\n",
    "          folder_path = '../dataset/', dbname = 'chap07.db')"
   ]
  },
  {
   "cell_type": "markdown",
   "metadata": {},
   "source": [
    "# Items and ShopItems"
   ]
  },
  {
   "cell_type": "code",
   "execution_count": 12,
   "metadata": {},
   "outputs": [
    {
     "data": {
      "text/html": [
       "<div>\n",
       "<style scoped>\n",
       "    .dataframe tbody tr th:only-of-type {\n",
       "        vertical-align: middle;\n",
       "    }\n",
       "\n",
       "    .dataframe tbody tr th {\n",
       "        vertical-align: top;\n",
       "    }\n",
       "\n",
       "    .dataframe thead th {\n",
       "        text-align: right;\n",
       "    }\n",
       "</style>\n",
       "<table border=\"1\" class=\"dataframe\">\n",
       "  <thead>\n",
       "    <tr style=\"text-align: right;\">\n",
       "      <th></th>\n",
       "      <th>item</th>\n",
       "    </tr>\n",
       "  </thead>\n",
       "  <tbody>\n",
       "    <tr>\n",
       "      <th>0</th>\n",
       "      <td>beer</td>\n",
       "    </tr>\n",
       "    <tr>\n",
       "      <th>1</th>\n",
       "      <td>paper-diapers</td>\n",
       "    </tr>\n",
       "    <tr>\n",
       "      <th>2</th>\n",
       "      <td>bycycle</td>\n",
       "    </tr>\n",
       "  </tbody>\n",
       "</table>\n",
       "</div>"
      ],
      "text/plain": [
       "            item\n",
       "0           beer\n",
       "1  paper-diapers\n",
       "2        bycycle"
      ]
     },
     "execution_count": 12,
     "metadata": {},
     "output_type": "execute_result"
    }
   ],
   "source": [
    "Items = pd.DataFrame(\n",
    "    {\n",
    "        'item':['beer', 'paper-diapers', 'bycycle']\n",
    "    }\n",
    ")\n",
    "\n",
    "Items"
   ]
  },
  {
   "cell_type": "code",
   "execution_count": 14,
   "metadata": {},
   "outputs": [
    {
     "data": {
      "text/html": [
       "<div>\n",
       "<style scoped>\n",
       "    .dataframe tbody tr th:only-of-type {\n",
       "        vertical-align: middle;\n",
       "    }\n",
       "\n",
       "    .dataframe tbody tr th {\n",
       "        vertical-align: top;\n",
       "    }\n",
       "\n",
       "    .dataframe thead th {\n",
       "        text-align: right;\n",
       "    }\n",
       "</style>\n",
       "<table border=\"1\" class=\"dataframe\">\n",
       "  <thead>\n",
       "    <tr style=\"text-align: right;\">\n",
       "      <th></th>\n",
       "      <th>shop</th>\n",
       "      <th>item</th>\n",
       "    </tr>\n",
       "  </thead>\n",
       "  <tbody>\n",
       "    <tr>\n",
       "      <th>0</th>\n",
       "      <td>sendai</td>\n",
       "      <td>beer</td>\n",
       "    </tr>\n",
       "    <tr>\n",
       "      <th>1</th>\n",
       "      <td>sendai</td>\n",
       "      <td>paper-diapers</td>\n",
       "    </tr>\n",
       "    <tr>\n",
       "      <th>2</th>\n",
       "      <td>sendai</td>\n",
       "      <td>bycycle</td>\n",
       "    </tr>\n",
       "    <tr>\n",
       "      <th>3</th>\n",
       "      <td>sendai</td>\n",
       "      <td>curtain</td>\n",
       "    </tr>\n",
       "    <tr>\n",
       "      <th>4</th>\n",
       "      <td>tokyo</td>\n",
       "      <td>beer</td>\n",
       "    </tr>\n",
       "    <tr>\n",
       "      <th>5</th>\n",
       "      <td>tokyo</td>\n",
       "      <td>paper-diapers</td>\n",
       "    </tr>\n",
       "    <tr>\n",
       "      <th>6</th>\n",
       "      <td>tokyo</td>\n",
       "      <td>bycycle</td>\n",
       "    </tr>\n",
       "    <tr>\n",
       "      <th>7</th>\n",
       "      <td>osaka</td>\n",
       "      <td>television</td>\n",
       "    </tr>\n",
       "    <tr>\n",
       "      <th>8</th>\n",
       "      <td>osaka</td>\n",
       "      <td>paper-diapers</td>\n",
       "    </tr>\n",
       "    <tr>\n",
       "      <th>9</th>\n",
       "      <td>osaka</td>\n",
       "      <td>bycycle</td>\n",
       "    </tr>\n",
       "  </tbody>\n",
       "</table>\n",
       "</div>"
      ],
      "text/plain": [
       "     shop           item\n",
       "0  sendai           beer\n",
       "1  sendai  paper-diapers\n",
       "2  sendai        bycycle\n",
       "3  sendai        curtain\n",
       "4   tokyo           beer\n",
       "5   tokyo  paper-diapers\n",
       "6   tokyo        bycycle\n",
       "7   osaka     television\n",
       "8   osaka  paper-diapers\n",
       "9   osaka        bycycle"
      ]
     },
     "execution_count": 14,
     "metadata": {},
     "output_type": "execute_result"
    }
   ],
   "source": [
    "ShopItems = pd.DataFrame(\n",
    "    {\n",
    "        'shop':['sendai'] * 4 + ['tokyo'] * 3 + ['osaka'] * 3,\n",
    "        'item':['beer', 'paper-diapers', 'bycycle', 'curtain', 'beer', 'paper-diapers', 'bycycle', 'television',\n",
    "                'paper-diapers', 'bycycle']\n",
    "    })\n",
    "ShopItems"
   ]
  },
  {
   "cell_type": "code",
   "execution_count": 15,
   "metadata": {},
   "outputs": [
    {
     "name": "stdout",
     "output_type": "stream",
     "text": [
      "(0, 'beer')\n",
      "(1, 'paper-diapers')\n",
      "(2, 'bycycle')\n",
      "success\n"
     ]
    }
   ],
   "source": [
    "add_table(\n",
    "    table=Items,\n",
    "    table_name='Items',\n",
    "    folder_path='../dataset/',\n",
    "    dbname='chap07.db'\n",
    ")"
   ]
  },
  {
   "cell_type": "code",
   "execution_count": 16,
   "metadata": {},
   "outputs": [
    {
     "name": "stdout",
     "output_type": "stream",
     "text": [
      "(0, 'sendai', 'beer')\n",
      "(1, 'sendai', 'paper-diapers')\n",
      "(2, 'sendai', 'bycycle')\n",
      "(3, 'sendai', 'curtain')\n",
      "(4, 'tokyo', 'beer')\n",
      "(5, 'tokyo', 'paper-diapers')\n",
      "(6, 'tokyo', 'bycycle')\n",
      "(7, 'osaka', 'television')\n",
      "(8, 'osaka', 'paper-diapers')\n",
      "(9, 'osaka', 'bycycle')\n",
      "success\n"
     ]
    }
   ],
   "source": [
    "add_table(\n",
    "    table=ShopItems,\n",
    "    table_name='ShopItems',\n",
    "    folder_path='../dataset/',\n",
    "    dbname='chap07.db'\n",
    ")"
   ]
  },
  {
   "cell_type": "code",
   "execution_count": null,
   "metadata": {},
   "outputs": [],
   "source": []
  }
 ],
 "metadata": {
  "kernelspec": {
   "display_name": "Python 3",
   "language": "python",
   "name": "python3"
  },
  "language_info": {
   "codemirror_mode": {
    "name": "ipython",
    "version": 3
   },
   "file_extension": ".py",
   "mimetype": "text/x-python",
   "name": "python",
   "nbconvert_exporter": "python",
   "pygments_lexer": "ipython3",
   "version": "3.7.5"
  }
 },
 "nbformat": 4,
 "nbformat_minor": 4
}
