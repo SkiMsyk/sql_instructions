{
 "cells": [
  {
   "cell_type": "markdown",
   "metadata": {},
   "source": [
    "# テーブルを作成する  \n",
    "## 方針\n",
    "各チャブターのテーブルは\n",
    "- 'chapXX.db'というDBに放り込む\n",
    "- テーブル名は書籍に準ずる"
   ]
  },
  {
   "cell_type": "code",
   "execution_count": 1,
   "metadata": {},
   "outputs": [],
   "source": [
    "import os\n",
    "import numpy as np\n",
    "import pandas as pd"
   ]
  },
  {
   "cell_type": "code",
   "execution_count": 10,
   "metadata": {},
   "outputs": [],
   "source": [
    "import sqlite3\n",
    "def add_table(table, table_name, folder_path, dbname):\n",
    "    # make connection to the db\n",
    "    conn = sqlite3.connect(folder_path + dbname)\n",
    "\n",
    "    # make cursor object for opearating sqlite\n",
    "    cur = conn.cursor()\n",
    "\n",
    "    # create table TestResults\n",
    "    table.to_sql(table_name, conn, if_exists='replace')\n",
    "\n",
    "    # confirm table\n",
    "    select_sql = 'SELECT * FROM ' + table_name + ';'\n",
    "    for row in cur.execute(select_sql):\n",
    "        print(row)\n",
    "\n",
    "    cur.close()\n",
    "    conn.close()\n",
    "    \n",
    "    print('success')"
   ]
  },
  {
   "cell_type": "markdown",
   "metadata": {},
   "source": [
    "---"
   ]
  },
  {
   "cell_type": "markdown",
   "metadata": {},
   "source": [
    "# chap7のDB作成"
   ]
  },
  {
   "cell_type": "markdown",
   "metadata": {},
   "source": [
    "---\n",
    "# SeqTbl"
   ]
  },
  {
   "cell_type": "code",
   "execution_count": 6,
   "metadata": {},
   "outputs": [],
   "source": [
    "seq = [1,2,3,5,6,8]\n",
    "name = ['dick', 'ann', 'lyle', 'cur', 'mary', 'ben']"
   ]
  },
  {
   "cell_type": "code",
   "execution_count": 8,
   "metadata": {},
   "outputs": [
    {
     "data": {
      "text/html": [
       "<div>\n",
       "<style scoped>\n",
       "    .dataframe tbody tr th:only-of-type {\n",
       "        vertical-align: middle;\n",
       "    }\n",
       "\n",
       "    .dataframe tbody tr th {\n",
       "        vertical-align: top;\n",
       "    }\n",
       "\n",
       "    .dataframe thead th {\n",
       "        text-align: right;\n",
       "    }\n",
       "</style>\n",
       "<table border=\"1\" class=\"dataframe\">\n",
       "  <thead>\n",
       "    <tr style=\"text-align: right;\">\n",
       "      <th></th>\n",
       "      <th>seq</th>\n",
       "      <th>name</th>\n",
       "    </tr>\n",
       "  </thead>\n",
       "  <tbody>\n",
       "    <tr>\n",
       "      <th>0</th>\n",
       "      <td>1</td>\n",
       "      <td>dick</td>\n",
       "    </tr>\n",
       "    <tr>\n",
       "      <th>1</th>\n",
       "      <td>2</td>\n",
       "      <td>ann</td>\n",
       "    </tr>\n",
       "    <tr>\n",
       "      <th>2</th>\n",
       "      <td>3</td>\n",
       "      <td>lyle</td>\n",
       "    </tr>\n",
       "    <tr>\n",
       "      <th>3</th>\n",
       "      <td>5</td>\n",
       "      <td>cur</td>\n",
       "    </tr>\n",
       "    <tr>\n",
       "      <th>4</th>\n",
       "      <td>6</td>\n",
       "      <td>mary</td>\n",
       "    </tr>\n",
       "    <tr>\n",
       "      <th>5</th>\n",
       "      <td>8</td>\n",
       "      <td>ben</td>\n",
       "    </tr>\n",
       "  </tbody>\n",
       "</table>\n",
       "</div>"
      ],
      "text/plain": [
       "   seq  name\n",
       "0    1  dick\n",
       "1    2   ann\n",
       "2    3  lyle\n",
       "3    5   cur\n",
       "4    6  mary\n",
       "5    8   ben"
      ]
     },
     "execution_count": 8,
     "metadata": {},
     "output_type": "execute_result"
    }
   ],
   "source": [
    "SeqTbl = pd.DataFrame(\n",
    "    {\n",
    "        'seq':seq,\n",
    "        'name':name\n",
    "    }\n",
    ")\n",
    "SeqTbl"
   ]
  },
  {
   "cell_type": "code",
   "execution_count": 26,
   "metadata": {},
   "outputs": [
    {
     "name": "stdout",
     "output_type": "stream",
     "text": [
      "(0, 1, 'dick')\n",
      "(1, 2, 'ann')\n",
      "(2, 3, 'lyle')\n",
      "(3, 5, 'cur')\n",
      "(4, 6, 'mary')\n",
      "(5, 8, 'ben')\n",
      "success\n"
     ]
    }
   ],
   "source": [
    "add_table(\n",
    "    table = SeqTbl,\n",
    "    table_name='SeqTbl',\n",
    "    folder_path='../dataset/',\n",
    "    dbname='chap07.db')"
   ]
  },
  {
   "cell_type": "markdown",
   "metadata": {},
   "source": [
    "## SeqTabl_case1 to 4"
   ]
  },
  {
   "cell_type": "code",
   "execution_count": 9,
   "metadata": {},
   "outputs": [],
   "source": [
    "case1 = pd.DataFrame({'seq':[1,2,3,4,5]})\n",
    "case2 = pd.DataFrame({'seq':[1,2,4,5,8]})\n",
    "case3 = pd.DataFrame({'seq':[3,4,5,6,7]})\n",
    "case4 = pd.DataFrame({'seq':[3,4,7,8,10]})"
   ]
  },
  {
   "cell_type": "code",
   "execution_count": 28,
   "metadata": {},
   "outputs": [
    {
     "name": "stdout",
     "output_type": "stream",
     "text": [
      "(0, 1)\n",
      "(1, 2)\n",
      "(2, 3)\n",
      "(3, 4)\n",
      "(4, 5)\n",
      "success\n",
      "(0, 1)\n",
      "(1, 2)\n",
      "(2, 4)\n",
      "(3, 5)\n",
      "(4, 8)\n",
      "success\n",
      "(0, 3)\n",
      "(1, 4)\n",
      "(2, 5)\n",
      "(3, 6)\n",
      "(4, 7)\n",
      "success\n",
      "(0, 3)\n",
      "(1, 4)\n",
      "(2, 7)\n",
      "(3, 8)\n",
      "(4, 10)\n",
      "success\n"
     ]
    }
   ],
   "source": [
    "add_table(table=case1, table_name='SeqTable_case1', folder_path='../dataset/', dbname='chap07.db')\n",
    "add_table(table=case2, table_name='SeqTable_case2', folder_path='../dataset/', dbname='chap07.db')\n",
    "add_table(table=case3, table_name='SeqTable_case3', folder_path='../dataset/', dbname='chap07.db')\n",
    "add_table(table=case4, table_name='SeqTable_case4', folder_path='../dataset/', dbname='chap07.db')"
   ]
  },
  {
   "cell_type": "markdown",
   "metadata": {},
   "source": [
    "---\n",
    "# Graduates  "
   ]
  },
  {
   "cell_type": "code",
   "execution_count": 11,
   "metadata": {},
   "outputs": [],
   "source": [
    "name = ['sampson', 'mike', 'white', 'arnold', 'smith', 'lawrence', 'hadson', 'kent', 'becker', 'scott']\n",
    "income = np.array([40] + [3] + [2] * 3 + [1] * 5) * 10000"
   ]
  },
  {
   "cell_type": "code",
   "execution_count": 12,
   "metadata": {},
   "outputs": [
    {
     "data": {
      "text/html": [
       "<div>\n",
       "<style scoped>\n",
       "    .dataframe tbody tr th:only-of-type {\n",
       "        vertical-align: middle;\n",
       "    }\n",
       "\n",
       "    .dataframe tbody tr th {\n",
       "        vertical-align: top;\n",
       "    }\n",
       "\n",
       "    .dataframe thead th {\n",
       "        text-align: right;\n",
       "    }\n",
       "</style>\n",
       "<table border=\"1\" class=\"dataframe\">\n",
       "  <thead>\n",
       "    <tr style=\"text-align: right;\">\n",
       "      <th></th>\n",
       "      <th>name</th>\n",
       "      <th>income</th>\n",
       "    </tr>\n",
       "  </thead>\n",
       "  <tbody>\n",
       "    <tr>\n",
       "      <th>0</th>\n",
       "      <td>sampson</td>\n",
       "      <td>400000</td>\n",
       "    </tr>\n",
       "    <tr>\n",
       "      <th>1</th>\n",
       "      <td>mike</td>\n",
       "      <td>30000</td>\n",
       "    </tr>\n",
       "    <tr>\n",
       "      <th>2</th>\n",
       "      <td>white</td>\n",
       "      <td>20000</td>\n",
       "    </tr>\n",
       "    <tr>\n",
       "      <th>3</th>\n",
       "      <td>arnold</td>\n",
       "      <td>20000</td>\n",
       "    </tr>\n",
       "    <tr>\n",
       "      <th>4</th>\n",
       "      <td>smith</td>\n",
       "      <td>20000</td>\n",
       "    </tr>\n",
       "    <tr>\n",
       "      <th>5</th>\n",
       "      <td>lawrence</td>\n",
       "      <td>10000</td>\n",
       "    </tr>\n",
       "    <tr>\n",
       "      <th>6</th>\n",
       "      <td>hadson</td>\n",
       "      <td>10000</td>\n",
       "    </tr>\n",
       "    <tr>\n",
       "      <th>7</th>\n",
       "      <td>kent</td>\n",
       "      <td>10000</td>\n",
       "    </tr>\n",
       "    <tr>\n",
       "      <th>8</th>\n",
       "      <td>becker</td>\n",
       "      <td>10000</td>\n",
       "    </tr>\n",
       "    <tr>\n",
       "      <th>9</th>\n",
       "      <td>scott</td>\n",
       "      <td>10000</td>\n",
       "    </tr>\n",
       "  </tbody>\n",
       "</table>\n",
       "</div>"
      ],
      "text/plain": [
       "       name  income\n",
       "0   sampson  400000\n",
       "1      mike   30000\n",
       "2     white   20000\n",
       "3    arnold   20000\n",
       "4     smith   20000\n",
       "5  lawrence   10000\n",
       "6    hadson   10000\n",
       "7      kent   10000\n",
       "8    becker   10000\n",
       "9     scott   10000"
      ]
     },
     "execution_count": 12,
     "metadata": {},
     "output_type": "execute_result"
    }
   ],
   "source": [
    "Graduates = pd.DataFrame({\n",
    "    'name':name,\n",
    "    'income':income\n",
    "})\n",
    "Graduates"
   ]
  },
  {
   "cell_type": "code",
   "execution_count": 33,
   "metadata": {},
   "outputs": [
    {
     "name": "stdout",
     "output_type": "stream",
     "text": [
      "(0, 'sampson', 400000)\n",
      "(1, 'mike', 30000)\n",
      "(2, 'white', 20000)\n",
      "(3, 'arnold', 20000)\n",
      "(4, 'smith', 20000)\n",
      "(5, 'lawrence', 10000)\n",
      "(6, 'hadson', 10000)\n",
      "(7, 'kent', 10000)\n",
      "(8, 'becker', 10000)\n",
      "(9, 'scott', 10000)\n",
      "success\n"
     ]
    }
   ],
   "source": [
    "add_table(table = Graduates, table_name='Graduates', folder_path='../dataset/', dbname='chap07.db')"
   ]
  },
  {
   "cell_type": "markdown",
   "metadata": {},
   "source": [
    "---\n",
    "# NullTbl"
   ]
  },
  {
   "cell_type": "code",
   "execution_count": 13,
   "metadata": {},
   "outputs": [
    {
     "data": {
      "text/plain": [
       "[None, None, None]"
      ]
     },
     "execution_count": 13,
     "metadata": {},
     "output_type": "execute_result"
    }
   ],
   "source": [
    "col_1 = [None]*3\n",
    "col_1"
   ]
  },
  {
   "cell_type": "code",
   "execution_count": 14,
   "metadata": {},
   "outputs": [
    {
     "data": {
      "text/html": [
       "<div>\n",
       "<style scoped>\n",
       "    .dataframe tbody tr th:only-of-type {\n",
       "        vertical-align: middle;\n",
       "    }\n",
       "\n",
       "    .dataframe tbody tr th {\n",
       "        vertical-align: top;\n",
       "    }\n",
       "\n",
       "    .dataframe thead th {\n",
       "        text-align: right;\n",
       "    }\n",
       "</style>\n",
       "<table border=\"1\" class=\"dataframe\">\n",
       "  <thead>\n",
       "    <tr style=\"text-align: right;\">\n",
       "      <th></th>\n",
       "      <th>col_1</th>\n",
       "    </tr>\n",
       "  </thead>\n",
       "  <tbody>\n",
       "    <tr>\n",
       "      <th>0</th>\n",
       "      <td>None</td>\n",
       "    </tr>\n",
       "    <tr>\n",
       "      <th>1</th>\n",
       "      <td>None</td>\n",
       "    </tr>\n",
       "    <tr>\n",
       "      <th>2</th>\n",
       "      <td>None</td>\n",
       "    </tr>\n",
       "  </tbody>\n",
       "</table>\n",
       "</div>"
      ],
      "text/plain": [
       "  col_1\n",
       "0  None\n",
       "1  None\n",
       "2  None"
      ]
     },
     "execution_count": 14,
     "metadata": {},
     "output_type": "execute_result"
    }
   ],
   "source": [
    "NullTbl = pd.DataFrame({\n",
    "    'col_1':col_1\n",
    "})\n",
    "\n",
    "NullTbl"
   ]
  },
  {
   "cell_type": "code",
   "execution_count": 39,
   "metadata": {},
   "outputs": [
    {
     "name": "stdout",
     "output_type": "stream",
     "text": [
      "(0, None)\n",
      "(1, None)\n",
      "(2, None)\n",
      "success\n"
     ]
    }
   ],
   "source": [
    "add_table(table=NullTbl, table_name='NullTbl', folder_path='../dataset/', dbname='chap07.db')"
   ]
  },
  {
   "cell_type": "markdown",
   "metadata": {},
   "source": [
    "---\n",
    "# Students "
   ]
  },
  {
   "cell_type": "code",
   "execution_count": 16,
   "metadata": {},
   "outputs": [],
   "source": [
    "student_id = [100, 101, 102, 103, 200, 201, 202]\n",
    "dpt = ['science', 'science', 'literature', 'literature', 'literature', 'engineering', 'finance']\n",
    "sbmt_date = ['2018-10-10',\n",
    "             '2018-09-22',\n",
    "              None,\n",
    "             '2018-09-10',\n",
    "             '2018-09-22',\n",
    "              None,\n",
    "             '2018-09-25']"
   ]
  },
  {
   "cell_type": "code",
   "execution_count": 17,
   "metadata": {},
   "outputs": [
    {
     "data": {
      "text/html": [
       "<div>\n",
       "<style scoped>\n",
       "    .dataframe tbody tr th:only-of-type {\n",
       "        vertical-align: middle;\n",
       "    }\n",
       "\n",
       "    .dataframe tbody tr th {\n",
       "        vertical-align: top;\n",
       "    }\n",
       "\n",
       "    .dataframe thead th {\n",
       "        text-align: right;\n",
       "    }\n",
       "</style>\n",
       "<table border=\"1\" class=\"dataframe\">\n",
       "  <thead>\n",
       "    <tr style=\"text-align: right;\">\n",
       "      <th></th>\n",
       "      <th>student_id</th>\n",
       "      <th>dpt</th>\n",
       "      <th>sbmt_date</th>\n",
       "    </tr>\n",
       "  </thead>\n",
       "  <tbody>\n",
       "    <tr>\n",
       "      <th>0</th>\n",
       "      <td>100</td>\n",
       "      <td>science</td>\n",
       "      <td>2018-10-10</td>\n",
       "    </tr>\n",
       "    <tr>\n",
       "      <th>1</th>\n",
       "      <td>101</td>\n",
       "      <td>science</td>\n",
       "      <td>2018-09-22</td>\n",
       "    </tr>\n",
       "    <tr>\n",
       "      <th>2</th>\n",
       "      <td>102</td>\n",
       "      <td>literature</td>\n",
       "      <td>None</td>\n",
       "    </tr>\n",
       "    <tr>\n",
       "      <th>3</th>\n",
       "      <td>103</td>\n",
       "      <td>literature</td>\n",
       "      <td>2018-09-10</td>\n",
       "    </tr>\n",
       "    <tr>\n",
       "      <th>4</th>\n",
       "      <td>200</td>\n",
       "      <td>literature</td>\n",
       "      <td>2018-09-22</td>\n",
       "    </tr>\n",
       "    <tr>\n",
       "      <th>5</th>\n",
       "      <td>201</td>\n",
       "      <td>engineering</td>\n",
       "      <td>None</td>\n",
       "    </tr>\n",
       "    <tr>\n",
       "      <th>6</th>\n",
       "      <td>202</td>\n",
       "      <td>finance</td>\n",
       "      <td>2018-09-25</td>\n",
       "    </tr>\n",
       "  </tbody>\n",
       "</table>\n",
       "</div>"
      ],
      "text/plain": [
       "   student_id          dpt   sbmt_date\n",
       "0         100      science  2018-10-10\n",
       "1         101      science  2018-09-22\n",
       "2         102   literature        None\n",
       "3         103   literature  2018-09-10\n",
       "4         200   literature  2018-09-22\n",
       "5         201  engineering        None\n",
       "6         202      finance  2018-09-25"
      ]
     },
     "execution_count": 17,
     "metadata": {},
     "output_type": "execute_result"
    }
   ],
   "source": [
    "Students = pd.DataFrame({\n",
    "    'student_id':student_id,\n",
    "    'dpt':dpt,\n",
    "    'sbmt_date':sbmt_date\n",
    "})\n",
    "Students"
   ]
  },
  {
   "cell_type": "code",
   "execution_count": 50,
   "metadata": {},
   "outputs": [
    {
     "name": "stdout",
     "output_type": "stream",
     "text": [
      "(0, 100, 'science', '2018-10-10')\n",
      "(1, 101, 'science', '2018-09-22')\n",
      "(2, 102, 'literature', None)\n",
      "(3, 103, 'literature', '2018-09-10')\n",
      "(4, 200, 'literature', '2018-09-22')\n",
      "(5, 201, 'engineering', None)\n",
      "(6, 202, 'finance', '2018-09-25')\n",
      "success\n"
     ]
    }
   ],
   "source": [
    "add_table(table=Students, table_name='Students', folder_path='../dataset/', dbname='chap07.db')"
   ]
  },
  {
   "cell_type": "markdown",
   "metadata": {},
   "source": [
    "---\n",
    "# TestResults"
   ]
  },
  {
   "cell_type": "code",
   "execution_count": 18,
   "metadata": {},
   "outputs": [
    {
     "data": {
      "text/html": [
       "<div>\n",
       "<style scoped>\n",
       "    .dataframe tbody tr th:only-of-type {\n",
       "        vertical-align: middle;\n",
       "    }\n",
       "\n",
       "    .dataframe tbody tr th {\n",
       "        vertical-align: top;\n",
       "    }\n",
       "\n",
       "    .dataframe thead th {\n",
       "        text-align: right;\n",
       "    }\n",
       "</style>\n",
       "<table border=\"1\" class=\"dataframe\">\n",
       "  <thead>\n",
       "    <tr style=\"text-align: right;\">\n",
       "      <th></th>\n",
       "      <th>student_id</th>\n",
       "      <th>class</th>\n",
       "      <th>sex</th>\n",
       "      <th>score</th>\n",
       "    </tr>\n",
       "  </thead>\n",
       "  <tbody>\n",
       "    <tr>\n",
       "      <th>0</th>\n",
       "      <td>001</td>\n",
       "      <td>A</td>\n",
       "      <td>male</td>\n",
       "      <td>100</td>\n",
       "    </tr>\n",
       "    <tr>\n",
       "      <th>1</th>\n",
       "      <td>002</td>\n",
       "      <td>A</td>\n",
       "      <td>female</td>\n",
       "      <td>100</td>\n",
       "    </tr>\n",
       "    <tr>\n",
       "      <th>2</th>\n",
       "      <td>003</td>\n",
       "      <td>A</td>\n",
       "      <td>female</td>\n",
       "      <td>49</td>\n",
       "    </tr>\n",
       "    <tr>\n",
       "      <th>3</th>\n",
       "      <td>004</td>\n",
       "      <td>A</td>\n",
       "      <td>male</td>\n",
       "      <td>30</td>\n",
       "    </tr>\n",
       "    <tr>\n",
       "      <th>4</th>\n",
       "      <td>005</td>\n",
       "      <td>B</td>\n",
       "      <td>female</td>\n",
       "      <td>100</td>\n",
       "    </tr>\n",
       "    <tr>\n",
       "      <th>5</th>\n",
       "      <td>006</td>\n",
       "      <td>B</td>\n",
       "      <td>male</td>\n",
       "      <td>92</td>\n",
       "    </tr>\n",
       "    <tr>\n",
       "      <th>6</th>\n",
       "      <td>007</td>\n",
       "      <td>B</td>\n",
       "      <td>male</td>\n",
       "      <td>80</td>\n",
       "    </tr>\n",
       "    <tr>\n",
       "      <th>7</th>\n",
       "      <td>008</td>\n",
       "      <td>B</td>\n",
       "      <td>male</td>\n",
       "      <td>80</td>\n",
       "    </tr>\n",
       "    <tr>\n",
       "      <th>8</th>\n",
       "      <td>009</td>\n",
       "      <td>B</td>\n",
       "      <td>female</td>\n",
       "      <td>10</td>\n",
       "    </tr>\n",
       "    <tr>\n",
       "      <th>9</th>\n",
       "      <td>010</td>\n",
       "      <td>C</td>\n",
       "      <td>male</td>\n",
       "      <td>92</td>\n",
       "    </tr>\n",
       "    <tr>\n",
       "      <th>10</th>\n",
       "      <td>011</td>\n",
       "      <td>C</td>\n",
       "      <td>male</td>\n",
       "      <td>80</td>\n",
       "    </tr>\n",
       "    <tr>\n",
       "      <th>11</th>\n",
       "      <td>012</td>\n",
       "      <td>C</td>\n",
       "      <td>female</td>\n",
       "      <td>21</td>\n",
       "    </tr>\n",
       "    <tr>\n",
       "      <th>12</th>\n",
       "      <td>013</td>\n",
       "      <td>D</td>\n",
       "      <td>female</td>\n",
       "      <td>100</td>\n",
       "    </tr>\n",
       "    <tr>\n",
       "      <th>13</th>\n",
       "      <td>014</td>\n",
       "      <td>D</td>\n",
       "      <td>female</td>\n",
       "      <td>0</td>\n",
       "    </tr>\n",
       "    <tr>\n",
       "      <th>14</th>\n",
       "      <td>015</td>\n",
       "      <td>D</td>\n",
       "      <td>female</td>\n",
       "      <td>0</td>\n",
       "    </tr>\n",
       "  </tbody>\n",
       "</table>\n",
       "</div>"
      ],
      "text/plain": [
       "   student_id class     sex  score\n",
       "0         001     A    male    100\n",
       "1         002     A  female    100\n",
       "2         003     A  female     49\n",
       "3         004     A    male     30\n",
       "4         005     B  female    100\n",
       "5         006     B    male     92\n",
       "6         007     B    male     80\n",
       "7         008     B    male     80\n",
       "8         009     B  female     10\n",
       "9         010     C    male     92\n",
       "10        011     C    male     80\n",
       "11        012     C  female     21\n",
       "12        013     D  female    100\n",
       "13        014     D  female      0\n",
       "14        015     D  female      0"
      ]
     },
     "execution_count": 18,
     "metadata": {},
     "output_type": "execute_result"
    }
   ],
   "source": [
    "TestResults = pd.DataFrame(\n",
    "    {\n",
    "        'student_id':[str(e).zfill(3) for e in range(1,16)],\n",
    "        'class':['A']*4 + ['B']*5 + ['C']*3 + ['D'] * 3,\n",
    "        'sex':['male' if e == 1 else 'female' for e in [1,0,0,1,0,1,1,1,0,1,1,0,0,0,0]],\n",
    "        'score':[100, 100, 49, 30, 100, 92, 80, 80, 10, 92, 80, 21, 100, 0, 0]\n",
    "    }\n",
    ")\n",
    "TestResults"
   ]
  },
  {
   "cell_type": "code",
   "execution_count": 6,
   "metadata": {},
   "outputs": [
    {
     "name": "stdout",
     "output_type": "stream",
     "text": [
      "(0, '001', 'A', 'male', 100)\n",
      "(1, '002', 'A', 'female', 100)\n",
      "(2, '003', 'A', 'female', 49)\n",
      "(3, '004', 'A', 'male', 30)\n",
      "(4, '005', 'B', 'female', 100)\n",
      "(5, '006', 'B', 'male', 92)\n",
      "(6, '007', 'B', 'male', 80)\n",
      "(7, '008', 'B', 'male', 80)\n",
      "(8, '009', 'B', 'female', 10)\n",
      "(9, '010', 'C', 'male', 92)\n",
      "(10, '011', 'C', 'male', 80)\n",
      "(11, '012', 'C', 'female', 21)\n",
      "(12, '013', 'D', 'female', 100)\n",
      "(13, '014', 'D', 'female', 0)\n",
      "(14, '015', 'D', 'female', 0)\n"
     ]
    }
   ],
   "source": [
    "add_table(table = TestResults, table_name = 'TestResults',\n",
    "          folder_path = '../dataset/', dbname = 'chap07.db')"
   ]
  },
  {
   "cell_type": "markdown",
   "metadata": {},
   "source": [
    "---\n",
    "# Teams"
   ]
  },
  {
   "cell_type": "code",
   "execution_count": 19,
   "metadata": {},
   "outputs": [
    {
     "data": {
      "text/html": [
       "<div>\n",
       "<style scoped>\n",
       "    .dataframe tbody tr th:only-of-type {\n",
       "        vertical-align: middle;\n",
       "    }\n",
       "\n",
       "    .dataframe tbody tr th {\n",
       "        vertical-align: top;\n",
       "    }\n",
       "\n",
       "    .dataframe thead th {\n",
       "        text-align: right;\n",
       "    }\n",
       "</style>\n",
       "<table border=\"1\" class=\"dataframe\">\n",
       "  <thead>\n",
       "    <tr style=\"text-align: right;\">\n",
       "      <th></th>\n",
       "      <th>member</th>\n",
       "      <th>team_id</th>\n",
       "      <th>status</th>\n",
       "    </tr>\n",
       "  </thead>\n",
       "  <tbody>\n",
       "    <tr>\n",
       "      <th>0</th>\n",
       "      <td>Joe</td>\n",
       "      <td>1</td>\n",
       "      <td>ready</td>\n",
       "    </tr>\n",
       "    <tr>\n",
       "      <th>1</th>\n",
       "      <td>Ken</td>\n",
       "      <td>1</td>\n",
       "      <td>active</td>\n",
       "    </tr>\n",
       "    <tr>\n",
       "      <th>2</th>\n",
       "      <td>Mik</td>\n",
       "      <td>1</td>\n",
       "      <td>ready</td>\n",
       "    </tr>\n",
       "    <tr>\n",
       "      <th>3</th>\n",
       "      <td>Karen</td>\n",
       "      <td>2</td>\n",
       "      <td>active</td>\n",
       "    </tr>\n",
       "    <tr>\n",
       "      <th>4</th>\n",
       "      <td>Keith</td>\n",
       "      <td>2</td>\n",
       "      <td>absence</td>\n",
       "    </tr>\n",
       "    <tr>\n",
       "      <th>5</th>\n",
       "      <td>Jan</td>\n",
       "      <td>3</td>\n",
       "      <td>ready</td>\n",
       "    </tr>\n",
       "    <tr>\n",
       "      <th>6</th>\n",
       "      <td>Hart</td>\n",
       "      <td>3</td>\n",
       "      <td>ready</td>\n",
       "    </tr>\n",
       "    <tr>\n",
       "      <th>7</th>\n",
       "      <td>Dick</td>\n",
       "      <td>3</td>\n",
       "      <td>ready</td>\n",
       "    </tr>\n",
       "    <tr>\n",
       "      <th>8</th>\n",
       "      <td>Beth</td>\n",
       "      <td>4</td>\n",
       "      <td>ready</td>\n",
       "    </tr>\n",
       "    <tr>\n",
       "      <th>9</th>\n",
       "      <td>Alen</td>\n",
       "      <td>5</td>\n",
       "      <td>active</td>\n",
       "    </tr>\n",
       "    <tr>\n",
       "      <th>10</th>\n",
       "      <td>Robert</td>\n",
       "      <td>5</td>\n",
       "      <td>absence</td>\n",
       "    </tr>\n",
       "    <tr>\n",
       "      <th>11</th>\n",
       "      <td>Kagan</td>\n",
       "      <td>5</td>\n",
       "      <td>ready</td>\n",
       "    </tr>\n",
       "  </tbody>\n",
       "</table>\n",
       "</div>"
      ],
      "text/plain": [
       "    member  team_id   status\n",
       "0      Joe        1    ready\n",
       "1      Ken        1   active\n",
       "2      Mik        1    ready\n",
       "3    Karen        2   active\n",
       "4    Keith        2  absence\n",
       "5      Jan        3    ready\n",
       "6     Hart        3    ready\n",
       "7     Dick        3    ready\n",
       "8     Beth        4    ready\n",
       "9     Alen        5   active\n",
       "10  Robert        5  absence\n",
       "11   Kagan        5    ready"
      ]
     },
     "execution_count": 19,
     "metadata": {},
     "output_type": "execute_result"
    }
   ],
   "source": [
    "Teams = pd.DataFrame(\n",
    "    {\n",
    "        'member': ['Joe', 'Ken', 'Mik', 'Karen', 'Keith', 'Jan', 'Hart', 'Dick', 'Beth', 'Alen', 'Robert', 'Kagan'],\n",
    "        'team_id': [1,1,1,2,2,3,3,3,4,5,5,5],\n",
    "        'status':['ready', 'active', 'ready', 'active', 'absence', 'ready', 'ready', 'ready', 'ready', 'active', 'absence', 'ready'],\n",
    "    }\n",
    ")\n",
    "Teams"
   ]
  },
  {
   "cell_type": "code",
   "execution_count": 13,
   "metadata": {},
   "outputs": [
    {
     "name": "stdout",
     "output_type": "stream",
     "text": [
      "(0, 'Joe', 1, 'ready')\n",
      "(1, 'Ken', 1, 'active')\n",
      "(2, 'Mik', 1, 'ready')\n",
      "(3, 'Karen', 2, 'active')\n",
      "(4, 'Keith', 2, 'absence')\n",
      "(5, 'Jan', 3, 'ready')\n",
      "(6, 'Hart', 3, 'ready')\n",
      "(7, 'Dick', 3, 'ready')\n",
      "(8, 'Beth', 4, 'ready')\n",
      "(9, 'Alen', 5, 'active')\n",
      "(10, 'Robert', 5, 'absence')\n",
      "(11, 'Kagan', 5, 'ready')\n"
     ]
    }
   ],
   "source": [
    "add_table(table = Teams, table_name = 'Teams',\n",
    "          folder_path = '../dataset/', dbname = 'chap07.db')"
   ]
  },
  {
   "cell_type": "markdown",
   "metadata": {},
   "source": [
    "---\n",
    "# Materials  "
   ]
  },
  {
   "cell_type": "code",
   "execution_count": 20,
   "metadata": {},
   "outputs": [],
   "source": [
    "center = ['tokyo'] * 4 + ['osaka'] * 3 + ['nagoya'] * 5 + ['fukuoka'] * 2\n",
    "y = ['2018'] * 14\n",
    "m = [str(e).zfill(2) for e in [4,4,5,5,4,4,4,3,4,4,5,5,5,5]]\n",
    "d = [str(e).zfill(2) for e in [1,12,17,20,20,22,29,15,1,24,2,10,10,28]]\n",
    "\n",
    "receive_date = ['-'.join(e) for e in zip(y, m, d)]\n",
    "\n",
    "material = ['tin', 'zinc', 'aluminum', 'zinc', 'copper', 'nickel', 'lead', 'titanium', 'carbon-steel', 'carbon-steel',\n",
    "           'magnesium', 'titanium', 'zinc', 'tin']"
   ]
  },
  {
   "cell_type": "code",
   "execution_count": 21,
   "metadata": {},
   "outputs": [
    {
     "data": {
      "text/html": [
       "<div>\n",
       "<style scoped>\n",
       "    .dataframe tbody tr th:only-of-type {\n",
       "        vertical-align: middle;\n",
       "    }\n",
       "\n",
       "    .dataframe tbody tr th {\n",
       "        vertical-align: top;\n",
       "    }\n",
       "\n",
       "    .dataframe thead th {\n",
       "        text-align: right;\n",
       "    }\n",
       "</style>\n",
       "<table border=\"1\" class=\"dataframe\">\n",
       "  <thead>\n",
       "    <tr style=\"text-align: right;\">\n",
       "      <th></th>\n",
       "      <th>center</th>\n",
       "      <th>receive_date</th>\n",
       "      <th>material</th>\n",
       "    </tr>\n",
       "  </thead>\n",
       "  <tbody>\n",
       "    <tr>\n",
       "      <th>0</th>\n",
       "      <td>tokyo</td>\n",
       "      <td>2018-04-01</td>\n",
       "      <td>tin</td>\n",
       "    </tr>\n",
       "    <tr>\n",
       "      <th>1</th>\n",
       "      <td>tokyo</td>\n",
       "      <td>2018-04-12</td>\n",
       "      <td>zinc</td>\n",
       "    </tr>\n",
       "    <tr>\n",
       "      <th>2</th>\n",
       "      <td>tokyo</td>\n",
       "      <td>2018-05-17</td>\n",
       "      <td>aluminum</td>\n",
       "    </tr>\n",
       "    <tr>\n",
       "      <th>3</th>\n",
       "      <td>tokyo</td>\n",
       "      <td>2018-05-20</td>\n",
       "      <td>zinc</td>\n",
       "    </tr>\n",
       "    <tr>\n",
       "      <th>4</th>\n",
       "      <td>osaka</td>\n",
       "      <td>2018-04-20</td>\n",
       "      <td>copper</td>\n",
       "    </tr>\n",
       "    <tr>\n",
       "      <th>5</th>\n",
       "      <td>osaka</td>\n",
       "      <td>2018-04-22</td>\n",
       "      <td>nickel</td>\n",
       "    </tr>\n",
       "    <tr>\n",
       "      <th>6</th>\n",
       "      <td>osaka</td>\n",
       "      <td>2018-04-29</td>\n",
       "      <td>lead</td>\n",
       "    </tr>\n",
       "    <tr>\n",
       "      <th>7</th>\n",
       "      <td>nagoya</td>\n",
       "      <td>2018-03-15</td>\n",
       "      <td>titanium</td>\n",
       "    </tr>\n",
       "    <tr>\n",
       "      <th>8</th>\n",
       "      <td>nagoya</td>\n",
       "      <td>2018-04-01</td>\n",
       "      <td>carbon-steel</td>\n",
       "    </tr>\n",
       "    <tr>\n",
       "      <th>9</th>\n",
       "      <td>nagoya</td>\n",
       "      <td>2018-04-24</td>\n",
       "      <td>carbon-steel</td>\n",
       "    </tr>\n",
       "    <tr>\n",
       "      <th>10</th>\n",
       "      <td>nagoya</td>\n",
       "      <td>2018-05-02</td>\n",
       "      <td>magnesium</td>\n",
       "    </tr>\n",
       "    <tr>\n",
       "      <th>11</th>\n",
       "      <td>nagoya</td>\n",
       "      <td>2018-05-10</td>\n",
       "      <td>titanium</td>\n",
       "    </tr>\n",
       "    <tr>\n",
       "      <th>12</th>\n",
       "      <td>fukuoka</td>\n",
       "      <td>2018-05-10</td>\n",
       "      <td>zinc</td>\n",
       "    </tr>\n",
       "    <tr>\n",
       "      <th>13</th>\n",
       "      <td>fukuoka</td>\n",
       "      <td>2018-05-28</td>\n",
       "      <td>tin</td>\n",
       "    </tr>\n",
       "  </tbody>\n",
       "</table>\n",
       "</div>"
      ],
      "text/plain": [
       "     center receive_date      material\n",
       "0     tokyo   2018-04-01           tin\n",
       "1     tokyo   2018-04-12          zinc\n",
       "2     tokyo   2018-05-17      aluminum\n",
       "3     tokyo   2018-05-20          zinc\n",
       "4     osaka   2018-04-20        copper\n",
       "5     osaka   2018-04-22        nickel\n",
       "6     osaka   2018-04-29          lead\n",
       "7    nagoya   2018-03-15      titanium\n",
       "8    nagoya   2018-04-01  carbon-steel\n",
       "9    nagoya   2018-04-24  carbon-steel\n",
       "10   nagoya   2018-05-02     magnesium\n",
       "11   nagoya   2018-05-10      titanium\n",
       "12  fukuoka   2018-05-10          zinc\n",
       "13  fukuoka   2018-05-28           tin"
      ]
     },
     "execution_count": 21,
     "metadata": {},
     "output_type": "execute_result"
    }
   ],
   "source": [
    "Materials = pd.DataFrame(\n",
    "    {\n",
    "        'center':center,\n",
    "        'receive_date':receive_date,\n",
    "        'material':material\n",
    "    }\n",
    ")\n",
    "\n",
    "Materials"
   ]
  },
  {
   "cell_type": "code",
   "execution_count": 11,
   "metadata": {},
   "outputs": [
    {
     "name": "stdout",
     "output_type": "stream",
     "text": [
      "(0, 'tokyo', '2018-04-01', 'tin')\n",
      "(1, 'tokyo', '2018-04-12', 'zinc')\n",
      "(2, 'tokyo', '2018-05-17', 'aluminum')\n",
      "(3, 'tokyo', '2018-05-20', 'zinc')\n",
      "(4, 'osaka', '2018-04-20', 'copper')\n",
      "(5, 'osaka', '2018-04-22', 'nickel')\n",
      "(6, 'osaka', '2018-04-29', 'lead')\n",
      "(7, 'nagoya', '2018-03-15', 'titanium')\n",
      "(8, 'nagoya', '2018-04-01', 'carbon-steel')\n",
      "(9, 'nagoya', '2018-04-24', 'carbon-steel')\n",
      "(10, 'nagoya', '2018-05-02', 'magnesium')\n",
      "(11, 'nagoya', '2018-05-10', 'titanium')\n",
      "(12, 'fukuoka', '2018-05-10', 'zinc')\n",
      "(13, 'fukuoka', '2018-05-28', 'tin')\n",
      "success\n"
     ]
    }
   ],
   "source": [
    "add_table(table = Materials, table_name = 'Materials',\n",
    "          folder_path = '../dataset/', dbname = 'chap07.db')"
   ]
  },
  {
   "cell_type": "markdown",
   "metadata": {},
   "source": [
    "---\n",
    "# Items and ShopItems"
   ]
  },
  {
   "cell_type": "code",
   "execution_count": 22,
   "metadata": {},
   "outputs": [
    {
     "data": {
      "text/html": [
       "<div>\n",
       "<style scoped>\n",
       "    .dataframe tbody tr th:only-of-type {\n",
       "        vertical-align: middle;\n",
       "    }\n",
       "\n",
       "    .dataframe tbody tr th {\n",
       "        vertical-align: top;\n",
       "    }\n",
       "\n",
       "    .dataframe thead th {\n",
       "        text-align: right;\n",
       "    }\n",
       "</style>\n",
       "<table border=\"1\" class=\"dataframe\">\n",
       "  <thead>\n",
       "    <tr style=\"text-align: right;\">\n",
       "      <th></th>\n",
       "      <th>item</th>\n",
       "    </tr>\n",
       "  </thead>\n",
       "  <tbody>\n",
       "    <tr>\n",
       "      <th>0</th>\n",
       "      <td>beer</td>\n",
       "    </tr>\n",
       "    <tr>\n",
       "      <th>1</th>\n",
       "      <td>paper-diapers</td>\n",
       "    </tr>\n",
       "    <tr>\n",
       "      <th>2</th>\n",
       "      <td>bycycle</td>\n",
       "    </tr>\n",
       "  </tbody>\n",
       "</table>\n",
       "</div>"
      ],
      "text/plain": [
       "            item\n",
       "0           beer\n",
       "1  paper-diapers\n",
       "2        bycycle"
      ]
     },
     "execution_count": 22,
     "metadata": {},
     "output_type": "execute_result"
    }
   ],
   "source": [
    "Items = pd.DataFrame(\n",
    "    {\n",
    "        'item':['beer', 'paper-diapers', 'bycycle']\n",
    "    }\n",
    ")\n",
    "\n",
    "Items"
   ]
  },
  {
   "cell_type": "code",
   "execution_count": 23,
   "metadata": {},
   "outputs": [
    {
     "data": {
      "text/html": [
       "<div>\n",
       "<style scoped>\n",
       "    .dataframe tbody tr th:only-of-type {\n",
       "        vertical-align: middle;\n",
       "    }\n",
       "\n",
       "    .dataframe tbody tr th {\n",
       "        vertical-align: top;\n",
       "    }\n",
       "\n",
       "    .dataframe thead th {\n",
       "        text-align: right;\n",
       "    }\n",
       "</style>\n",
       "<table border=\"1\" class=\"dataframe\">\n",
       "  <thead>\n",
       "    <tr style=\"text-align: right;\">\n",
       "      <th></th>\n",
       "      <th>shop</th>\n",
       "      <th>item</th>\n",
       "    </tr>\n",
       "  </thead>\n",
       "  <tbody>\n",
       "    <tr>\n",
       "      <th>0</th>\n",
       "      <td>sendai</td>\n",
       "      <td>beer</td>\n",
       "    </tr>\n",
       "    <tr>\n",
       "      <th>1</th>\n",
       "      <td>sendai</td>\n",
       "      <td>paper-diapers</td>\n",
       "    </tr>\n",
       "    <tr>\n",
       "      <th>2</th>\n",
       "      <td>sendai</td>\n",
       "      <td>bycycle</td>\n",
       "    </tr>\n",
       "    <tr>\n",
       "      <th>3</th>\n",
       "      <td>sendai</td>\n",
       "      <td>curtain</td>\n",
       "    </tr>\n",
       "    <tr>\n",
       "      <th>4</th>\n",
       "      <td>tokyo</td>\n",
       "      <td>beer</td>\n",
       "    </tr>\n",
       "    <tr>\n",
       "      <th>5</th>\n",
       "      <td>tokyo</td>\n",
       "      <td>paper-diapers</td>\n",
       "    </tr>\n",
       "    <tr>\n",
       "      <th>6</th>\n",
       "      <td>tokyo</td>\n",
       "      <td>bycycle</td>\n",
       "    </tr>\n",
       "    <tr>\n",
       "      <th>7</th>\n",
       "      <td>osaka</td>\n",
       "      <td>television</td>\n",
       "    </tr>\n",
       "    <tr>\n",
       "      <th>8</th>\n",
       "      <td>osaka</td>\n",
       "      <td>paper-diapers</td>\n",
       "    </tr>\n",
       "    <tr>\n",
       "      <th>9</th>\n",
       "      <td>osaka</td>\n",
       "      <td>bycycle</td>\n",
       "    </tr>\n",
       "  </tbody>\n",
       "</table>\n",
       "</div>"
      ],
      "text/plain": [
       "     shop           item\n",
       "0  sendai           beer\n",
       "1  sendai  paper-diapers\n",
       "2  sendai        bycycle\n",
       "3  sendai        curtain\n",
       "4   tokyo           beer\n",
       "5   tokyo  paper-diapers\n",
       "6   tokyo        bycycle\n",
       "7   osaka     television\n",
       "8   osaka  paper-diapers\n",
       "9   osaka        bycycle"
      ]
     },
     "execution_count": 23,
     "metadata": {},
     "output_type": "execute_result"
    }
   ],
   "source": [
    "ShopItems = pd.DataFrame(\n",
    "    {\n",
    "        'shop':['sendai'] * 4 + ['tokyo'] * 3 + ['osaka'] * 3,\n",
    "        'item':['beer', 'paper-diapers', 'bycycle', 'curtain', 'beer', 'paper-diapers', 'bycycle', 'television',\n",
    "                'paper-diapers', 'bycycle']\n",
    "    })\n",
    "ShopItems"
   ]
  },
  {
   "cell_type": "code",
   "execution_count": 15,
   "metadata": {},
   "outputs": [
    {
     "name": "stdout",
     "output_type": "stream",
     "text": [
      "(0, 'beer')\n",
      "(1, 'paper-diapers')\n",
      "(2, 'bycycle')\n",
      "success\n"
     ]
    }
   ],
   "source": [
    "add_table(\n",
    "    table=Items,\n",
    "    table_name='Items',\n",
    "    folder_path='../dataset/',\n",
    "    dbname='chap07.db'\n",
    ")"
   ]
  },
  {
   "cell_type": "code",
   "execution_count": 16,
   "metadata": {},
   "outputs": [
    {
     "name": "stdout",
     "output_type": "stream",
     "text": [
      "(0, 'sendai', 'beer')\n",
      "(1, 'sendai', 'paper-diapers')\n",
      "(2, 'sendai', 'bycycle')\n",
      "(3, 'sendai', 'curtain')\n",
      "(4, 'tokyo', 'beer')\n",
      "(5, 'tokyo', 'paper-diapers')\n",
      "(6, 'tokyo', 'bycycle')\n",
      "(7, 'osaka', 'television')\n",
      "(8, 'osaka', 'paper-diapers')\n",
      "(9, 'osaka', 'bycycle')\n",
      "success\n"
     ]
    }
   ],
   "source": [
    "add_table(\n",
    "    table=ShopItems,\n",
    "    table_name='ShopItems',\n",
    "    folder_path='../dataset/',\n",
    "    dbname='chap07.db'\n",
    ")"
   ]
  },
  {
   "cell_type": "markdown",
   "metadata": {},
   "source": [
    "---\n",
    "# CSV出力 "
   ]
  },
  {
   "cell_type": "code",
   "execution_count": 24,
   "metadata": {},
   "outputs": [],
   "source": [
    "tables = {\n",
    "    'SeqTbl':SeqTbl,\n",
    "    'case1':case1,\n",
    "    'case2':case2,\n",
    "    'case3':case3,\n",
    "    'case4':case4,\n",
    "    'Graduates':Graduates,\n",
    "    'NullTbl':NullTbl,\n",
    "    'Students':Students,\n",
    "    'TestResults':TestResults,\n",
    "    'Teams':Teams,\n",
    "    'Materials':Materials,\n",
    "    'Item':Items,\n",
    "    'ShopItems':ShopItems\n",
    "}"
   ]
  },
  {
   "cell_type": "code",
   "execution_count": 33,
   "metadata": {},
   "outputs": [
    {
     "name": "stdout",
     "output_type": "stream",
     "text": [
      "../dataset/chap07_csv/SeqTbl.csv\n",
      "../dataset/chap07_csv/case1.csv\n",
      "../dataset/chap07_csv/case2.csv\n",
      "../dataset/chap07_csv/case3.csv\n",
      "../dataset/chap07_csv/case4.csv\n",
      "../dataset/chap07_csv/Graduates.csv\n",
      "../dataset/chap07_csv/NullTbl.csv\n",
      "../dataset/chap07_csv/Students.csv\n",
      "../dataset/chap07_csv/TestResults.csv\n",
      "../dataset/chap07_csv/Teams.csv\n",
      "../dataset/chap07_csv/Materials.csv\n",
      "../dataset/chap07_csv/Item.csv\n",
      "../dataset/chap07_csv/ShopItems.csv\n"
     ]
    }
   ],
   "source": [
    "f = '../dataset/chap07_csv/'\n",
    "for k, v in tables.items():\n",
    "    path = f + k + '.csv'\n",
    "    v.to_csv(path, index=False)"
   ]
  },
  {
   "cell_type": "code",
   "execution_count": 30,
   "metadata": {},
   "outputs": [],
   "source": [
    "for k, v in tables.items():\n",
    "    v"
   ]
  },
  {
   "cell_type": "code",
   "execution_count": 32,
   "metadata": {},
   "outputs": [],
   "source": [
    "v.to_csv('../dataset/chap07_csv/test.csv')"
   ]
  },
  {
   "cell_type": "code",
   "execution_count": null,
   "metadata": {},
   "outputs": [],
   "source": []
  }
 ],
 "metadata": {
  "kernelspec": {
   "display_name": "Python 3",
   "language": "python",
   "name": "python3"
  },
  "language_info": {
   "codemirror_mode": {
    "name": "ipython",
    "version": 3
   },
   "file_extension": ".py",
   "mimetype": "text/x-python",
   "name": "python",
   "nbconvert_exporter": "python",
   "pygments_lexer": "ipython3",
   "version": "3.7.5"
  }
 },
 "nbformat": 4,
 "nbformat_minor": 4
}
