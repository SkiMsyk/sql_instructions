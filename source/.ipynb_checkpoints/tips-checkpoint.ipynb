{
 "cells": [
  {
   "cell_type": "markdown",
   "metadata": {},
   "source": [
    "# Tips  \n",
    "集合の性質を調べるための条件の使い方一覧  \n",
    "\n",
    "|No.|条件式|用途|\n",
    "|:-|:-|:-|\n",
    "|1|`count( distinct col ) = count(col)`|`col`の値が一意である|\n",
    "|2|`count(*) = count(col)`|`col`に`NULL`が存在しない|\n",
    "|3|`count(*) = max(col)`|`col`は歯抜けのない連番（１始まり）|\n",
    "|4|`count(*) = max(col) - min(col) + 1`|`col`は歯抜けのない連番|\n",
    "|5|`min(col) = max(col)`|`col`が1つだけの１値を持つか，`NULL`か|\n",
    "|6|`min(col) * max(col) > 0`|全ての`col_x`の符号が同じである|\n",
    "|7|`min(col) * max(col) < 0`|最大値の符号が正で最小値の符号が負|\n",
    "|8|`min(abs(col)) = 0`|`col`は少なくとも１つのゼロを含む|\n",
    "|9|`min(col - const) = -min(col - const)`|`col`の最大値と最小値が指定した定数から同じ幅の距離にある|"
   ]
  },
  {
   "cell_type": "code",
   "execution_count": null,
   "metadata": {},
   "outputs": [],
   "source": []
  }
 ],
 "metadata": {
  "kernelspec": {
   "display_name": "Python 3",
   "language": "python",
   "name": "python3"
  },
  "language_info": {
   "codemirror_mode": {
    "name": "ipython",
    "version": 3
   },
   "file_extension": ".py",
   "mimetype": "text/x-python",
   "name": "python",
   "nbconvert_exporter": "python",
   "pygments_lexer": "ipython3",
   "version": "3.7.5"
  }
 },
 "nbformat": 4,
 "nbformat_minor": 4
}
